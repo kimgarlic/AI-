{
  "cells": [
    {
      "cell_type": "markdown",
      "metadata": {
        "id": "GyjG2pFcCrpE"
      },
      "source": [
        "##7. 데이터프레임 합치기\n",
        "- concat()\n",
        "- merge()"
      ]
    },
    {
      "cell_type": "code",
      "execution_count": null,
      "metadata": {
        "id": "nxGh8ldWCuYD"
      },
      "outputs": [],
      "source": [
        "import pandas as pd\n",
        "\n",
        "titanic = pd.read_csv('titanic.csv')\n",
        "titanic"
      ]
    },
    {
      "cell_type": "code",
      "execution_count": null,
      "metadata": {
        "colab": {
          "base_uri": "https://localhost:8080/"
        },
        "id": "m2SEBRk0Cxe-",
        "outputId": "27587f6f-aed5-4a11-a99c-dd4e921e08aa"
      },
      "outputs": [
        {
          "output_type": "execute_result",
          "data": {
            "text/plain": [
              "(156, 0)"
            ]
          },
          "metadata": {},
          "execution_count": 232
        }
      ],
      "source": [
        "# 타이타닉에서 일부만 추출하여 별도로 저장\n",
        "\n",
        "train_1000=titanic.iloc[:1000]\n",
        "test_309=titanic.iloc[1000:]\n",
        "\n",
        "len(train_1000), len(test_309)"
      ]
    },
    {
      "cell_type": "code",
      "execution_count": null,
      "metadata": {
        "id": "KvjZG11fC0XR"
      },
      "outputs": [],
      "source": [
        "# 메모리에 자료 저장\n",
        "train_1000.to_csv('train_1000.csv')\n",
        "test_309.to_csv('test_309.csv')"
      ]
    },
    {
      "cell_type": "code",
      "execution_count": null,
      "metadata": {
        "id": "JkOV1XFNC7EE"
      },
      "outputs": [],
      "source": [
        "pd.read_csv('train_1000.csv')"
      ]
    },
    {
      "cell_type": "markdown",
      "metadata": {
        "id": "KTEMkWW6DGTT"
      },
      "source": [
        "###데이터 합치기: concat 함수"
      ]
    },
    {
      "cell_type": "code",
      "execution_count": null,
      "metadata": {
        "id": "FyAncxZ2DIWW"
      },
      "outputs": [],
      "source": [
        "# 위 아래로 붙이기 : 아래로\n",
        "\n",
        "total_df=pd.concat([train_1000, test_309])  # 기본옵션 axis=0\n",
        "\n",
        "total_df"
      ]
    },
    {
      "cell_type": "code",
      "execution_count": null,
      "metadata": {
        "id": "rENcYbT3DMpv"
      },
      "outputs": [],
      "source": [
        "# 좌우로 붙이기 : 옆으로\n",
        "\n",
        "total_df=pd.concat([train_1000, test_309])\n",
        "total_df=pd.concat([train_1000, test_309], axis=1)\n",
        "total_df"
      ]
    },
    {
      "cell_type": "markdown",
      "metadata": {
        "id": "9YR9fsWaDPex"
      },
      "source": [
        "###데이터프레임 병합  : merge 함수"
      ]
    },
    {
      "cell_type": "code",
      "execution_count": null,
      "metadata": {
        "id": "-pZVLzwSDRmf"
      },
      "outputs": [],
      "source": [
        "# 실습의 편의를 위해 몇개 컬럼 추출\n",
        "import pandas as pd\n",
        "\n",
        "df1=train_1000[['name', 'pclass', 'sex', 'age']]\n",
        "df1"
      ]
    },
    {
      "cell_type": "code",
      "execution_count": null,
      "metadata": {
        "id": "CJ6TS9_sDUah"
      },
      "outputs": [],
      "source": [
        "df2=train_1000[['name', 'survived']]\n",
        "df2"
      ]
    },
    {
      "cell_type": "code",
      "execution_count": null,
      "metadata": {
        "id": "H5DYz7JkDYNn"
      },
      "outputs": [],
      "source": [
        "# name을 기준으로 inner 병합함\n",
        "# 두 데이터프레임의 같은 컬럼의 값으로 머지\n",
        "\n",
        "merge_inner=pd.merge(df1, df2)\n",
        "merge_inner"
      ]
    },
    {
      "cell_type": "code",
      "source": [
        "# 머지 결과가 1000 -> 1004 ??\n",
        "# 동일이름 확인\n",
        "\n",
        "df1['name'].value_counts()"
      ],
      "metadata": {
        "id": "7niyAScxQt0G"
      },
      "execution_count": null,
      "outputs": []
    },
    {
      "cell_type": "code",
      "execution_count": null,
      "metadata": {
        "id": "cvxcP_4RDb0h"
      },
      "outputs": [],
      "source": [
        "#  머지 실습을 위해서 자료를 적게 만들고 임의의 데이터를 줘보자\n",
        "#  how='inner' :\n",
        "#  일반 조인 : 매칭되는 것만 포함\n",
        "\n",
        "df2.loc[[0,2,3], ['name']] = ''\n",
        "df2=df2[:10]\n",
        "df1=df1[:10]\n",
        "merge_inner=pd.merge(df1, df2, how='inner', on='name')\n",
        "merge_inner\n",
        "\n",
        "# 자료가 10개 인데 ... ? 값이 없으면 머지하지 않음  10 - 3 = 7개 결과"
      ]
    },
    {
      "cell_type": "code",
      "execution_count": null,
      "metadata": {
        "id": "4JIHsHo6DfSx"
      },
      "outputs": [],
      "source": [
        "# 머지에 참여하지 않은 값도 포함\n",
        "# outer 조인\n",
        "\n",
        "merge_outer = pd.merge(df1,df2, how='outer',on='name')\n",
        "merge_outer"
      ]
    },
    {
      "cell_type": "code",
      "execution_count": null,
      "metadata": {
        "id": "6vaDU8OSDiTV"
      },
      "outputs": [],
      "source": [
        "# 두 자료의 컬럼이 다를 경우 -> 흔히 있다.\n",
        "# 머지할 컬럼의 이름을 지정\n",
        "\n",
        "merge_left=pd.merge(df1, df2, how='left', left_on='name', right_on='name')\n",
        "\n",
        "merge_left"
      ]
    },
    {
      "cell_type": "code",
      "execution_count": null,
      "metadata": {
        "id": "D9QJ_t6YDkyg"
      },
      "outputs": [],
      "source": [
        "# right outer 조인\n",
        "\n",
        "merge_right=pd.merge(df1, df2, how='right', left_on='name', right_on='name')\n",
        "merge_right"
      ]
    },
    {
      "cell_type": "markdown",
      "metadata": {
        "id": "U8L7rmvHD-Z5"
      },
      "source": [
        "#Section 03. 조건 검색으로 데이터 추출\n",
        "## 1. 불 인덱스로 조건 검색하기"
      ]
    },
    {
      "cell_type": "code",
      "source": [
        "import pandas as pd\n",
        "\n",
        "df = pd.read_csv('titanic.csv')\n",
        "df"
      ],
      "metadata": {
        "id": "oWversQrX51l"
      },
      "execution_count": null,
      "outputs": []
    },
    {
      "cell_type": "code",
      "execution_count": null,
      "metadata": {
        "id": "SKRKhgv3EDs_"
      },
      "outputs": [],
      "source": [
        "df[df['age']>70] # 70세 이상인 승객 검색"
      ]
    },
    {
      "cell_type": "code",
      "execution_count": null,
      "metadata": {
        "id": "nbIwTvmbEGd4"
      },
      "outputs": [],
      "source": [
        "df[df['age']<3] # 3세 미만인 승객 검색"
      ]
    },
    {
      "cell_type": "code",
      "execution_count": null,
      "metadata": {
        "id": "iIORq7gIEIU9"
      },
      "outputs": [],
      "source": [
        "df[df['age']<3]['name'] # 3세 미만 승객의 이름 검색"
      ]
    },
    {
      "cell_type": "code",
      "execution_count": null,
      "metadata": {
        "id": "ClbmPZeAEKez"
      },
      "outputs": [],
      "source": [
        "df[df['age']<3][['age', 'name']]"
      ]
    },
    {
      "cell_type": "markdown",
      "metadata": {
        "id": "ewLrS6BgEMwC"
      },
      "source": [
        "##2. loc 속성으로 조건 검색하기"
      ]
    },
    {
      "cell_type": "code",
      "execution_count": null,
      "metadata": {
        "id": "uZbOeOyGEPir"
      },
      "outputs": [],
      "source": [
        "df.loc[df['age']<3]['name'] # 3세 미만 승객의 이름 검색"
      ]
    },
    {
      "cell_type": "code",
      "execution_count": null,
      "metadata": {
        "id": "1EjkmVttETOz"
      },
      "outputs": [],
      "source": [
        "df.loc[df['age']<3, 'name':'sex']"
      ]
    },
    {
      "cell_type": "code",
      "execution_count": null,
      "metadata": {
        "id": "6uIeZ6WbEVgh"
      },
      "outputs": [],
      "source": [
        "# 조건이 여러개\n",
        "# &, |, ~\n",
        "\n",
        "df.loc[ (df['age'] < 3) &  (df['survived']== 1), ['name', 'sex', 'age','survived']]\n"
      ]
    },
    {
      "cell_type": "code",
      "source": [
        "a=df['embarked'].unique( )\n",
        "a"
      ],
      "metadata": {
        "id": "HqHpmsZLbSo5"
      },
      "execution_count": null,
      "outputs": []
    },
    {
      "cell_type": "markdown",
      "source": [
        "## 셀프 테스트"
      ],
      "metadata": {
        "id": "xbnxTLOmW8Jj"
      }
    },
    {
      "cell_type": "code",
      "source": [
        "# 데이터프레임 생성\n",
        "\n",
        "import pandas as pd\n",
        "\n",
        "df1 = pd.DataFrame({'name' : ['Minsoo','Minju','Yeomin','Hyeri','Junghun','Sunny','Bummee','Luna'],\n",
        "                   'old'  : [33,25,19,25,32,36,23,36],\n",
        "                   'sex'  : ['M','W','W','W','M','W','M','W'],\n",
        "                   'score1': [91,50,69,98,72,85,43,61],\n",
        "                   'score2': [65,77,56,82,79,91,71,63],\n",
        "                   'time' : [30,95,64,88,34,69,15,25],\n",
        "                   })\n",
        "df1"
      ],
      "metadata": {
        "colab": {
          "base_uri": "https://localhost:8080/",
          "height": 300
        },
        "id": "grr6YdVqWQPV",
        "outputId": "6666b9eb-98ee-41ee-8e26-737a7339b4be"
      },
      "execution_count": null,
      "outputs": [
        {
          "output_type": "execute_result",
          "data": {
            "text/plain": [
              "      name  old sex  score1  score2  time\n",
              "0   Minsoo   33   M      91      65    30\n",
              "1    Minju   25   W      50      77    95\n",
              "2   Yeomin   19   W      69      56    64\n",
              "3    Hyeri   25   W      98      82    88\n",
              "4  Junghun   32   M      72      79    34\n",
              "5    Sunny   36   W      85      91    69\n",
              "6   Bummee   23   M      43      71    15\n",
              "7     Luna   36   W      61      63    25"
            ],
            "text/html": [
              "\n",
              "  <div id=\"df-d91b339f-f60e-4da2-a081-03b77bd9de27\" class=\"colab-df-container\">\n",
              "    <div>\n",
              "<style scoped>\n",
              "    .dataframe tbody tr th:only-of-type {\n",
              "        vertical-align: middle;\n",
              "    }\n",
              "\n",
              "    .dataframe tbody tr th {\n",
              "        vertical-align: top;\n",
              "    }\n",
              "\n",
              "    .dataframe thead th {\n",
              "        text-align: right;\n",
              "    }\n",
              "</style>\n",
              "<table border=\"1\" class=\"dataframe\">\n",
              "  <thead>\n",
              "    <tr style=\"text-align: right;\">\n",
              "      <th></th>\n",
              "      <th>name</th>\n",
              "      <th>old</th>\n",
              "      <th>sex</th>\n",
              "      <th>score1</th>\n",
              "      <th>score2</th>\n",
              "      <th>time</th>\n",
              "    </tr>\n",
              "  </thead>\n",
              "  <tbody>\n",
              "    <tr>\n",
              "      <th>0</th>\n",
              "      <td>Minsoo</td>\n",
              "      <td>33</td>\n",
              "      <td>M</td>\n",
              "      <td>91</td>\n",
              "      <td>65</td>\n",
              "      <td>30</td>\n",
              "    </tr>\n",
              "    <tr>\n",
              "      <th>1</th>\n",
              "      <td>Minju</td>\n",
              "      <td>25</td>\n",
              "      <td>W</td>\n",
              "      <td>50</td>\n",
              "      <td>77</td>\n",
              "      <td>95</td>\n",
              "    </tr>\n",
              "    <tr>\n",
              "      <th>2</th>\n",
              "      <td>Yeomin</td>\n",
              "      <td>19</td>\n",
              "      <td>W</td>\n",
              "      <td>69</td>\n",
              "      <td>56</td>\n",
              "      <td>64</td>\n",
              "    </tr>\n",
              "    <tr>\n",
              "      <th>3</th>\n",
              "      <td>Hyeri</td>\n",
              "      <td>25</td>\n",
              "      <td>W</td>\n",
              "      <td>98</td>\n",
              "      <td>82</td>\n",
              "      <td>88</td>\n",
              "    </tr>\n",
              "    <tr>\n",
              "      <th>4</th>\n",
              "      <td>Junghun</td>\n",
              "      <td>32</td>\n",
              "      <td>M</td>\n",
              "      <td>72</td>\n",
              "      <td>79</td>\n",
              "      <td>34</td>\n",
              "    </tr>\n",
              "    <tr>\n",
              "      <th>5</th>\n",
              "      <td>Sunny</td>\n",
              "      <td>36</td>\n",
              "      <td>W</td>\n",
              "      <td>85</td>\n",
              "      <td>91</td>\n",
              "      <td>69</td>\n",
              "    </tr>\n",
              "    <tr>\n",
              "      <th>6</th>\n",
              "      <td>Bummee</td>\n",
              "      <td>23</td>\n",
              "      <td>M</td>\n",
              "      <td>43</td>\n",
              "      <td>71</td>\n",
              "      <td>15</td>\n",
              "    </tr>\n",
              "    <tr>\n",
              "      <th>7</th>\n",
              "      <td>Luna</td>\n",
              "      <td>36</td>\n",
              "      <td>W</td>\n",
              "      <td>61</td>\n",
              "      <td>63</td>\n",
              "      <td>25</td>\n",
              "    </tr>\n",
              "  </tbody>\n",
              "</table>\n",
              "</div>\n",
              "    <div class=\"colab-df-buttons\">\n",
              "\n",
              "  <div class=\"colab-df-container\">\n",
              "    <button class=\"colab-df-convert\" onclick=\"convertToInteractive('df-d91b339f-f60e-4da2-a081-03b77bd9de27')\"\n",
              "            title=\"Convert this dataframe to an interactive table.\"\n",
              "            style=\"display:none;\">\n",
              "\n",
              "  <svg xmlns=\"http://www.w3.org/2000/svg\" height=\"24px\" viewBox=\"0 -960 960 960\">\n",
              "    <path d=\"M120-120v-720h720v720H120Zm60-500h600v-160H180v160Zm220 220h160v-160H400v160Zm0 220h160v-160H400v160ZM180-400h160v-160H180v160Zm440 0h160v-160H620v160ZM180-180h160v-160H180v160Zm440 0h160v-160H620v160Z\"/>\n",
              "  </svg>\n",
              "    </button>\n",
              "\n",
              "  <style>\n",
              "    .colab-df-container {\n",
              "      display:flex;\n",
              "      gap: 12px;\n",
              "    }\n",
              "\n",
              "    .colab-df-convert {\n",
              "      background-color: #E8F0FE;\n",
              "      border: none;\n",
              "      border-radius: 50%;\n",
              "      cursor: pointer;\n",
              "      display: none;\n",
              "      fill: #1967D2;\n",
              "      height: 32px;\n",
              "      padding: 0 0 0 0;\n",
              "      width: 32px;\n",
              "    }\n",
              "\n",
              "    .colab-df-convert:hover {\n",
              "      background-color: #E2EBFA;\n",
              "      box-shadow: 0px 1px 2px rgba(60, 64, 67, 0.3), 0px 1px 3px 1px rgba(60, 64, 67, 0.15);\n",
              "      fill: #174EA6;\n",
              "    }\n",
              "\n",
              "    .colab-df-buttons div {\n",
              "      margin-bottom: 4px;\n",
              "    }\n",
              "\n",
              "    [theme=dark] .colab-df-convert {\n",
              "      background-color: #3B4455;\n",
              "      fill: #D2E3FC;\n",
              "    }\n",
              "\n",
              "    [theme=dark] .colab-df-convert:hover {\n",
              "      background-color: #434B5C;\n",
              "      box-shadow: 0px 1px 3px 1px rgba(0, 0, 0, 0.15);\n",
              "      filter: drop-shadow(0px 1px 2px rgba(0, 0, 0, 0.3));\n",
              "      fill: #FFFFFF;\n",
              "    }\n",
              "  </style>\n",
              "\n",
              "    <script>\n",
              "      const buttonEl =\n",
              "        document.querySelector('#df-d91b339f-f60e-4da2-a081-03b77bd9de27 button.colab-df-convert');\n",
              "      buttonEl.style.display =\n",
              "        google.colab.kernel.accessAllowed ? 'block' : 'none';\n",
              "\n",
              "      async function convertToInteractive(key) {\n",
              "        const element = document.querySelector('#df-d91b339f-f60e-4da2-a081-03b77bd9de27');\n",
              "        const dataTable =\n",
              "          await google.colab.kernel.invokeFunction('convertToInteractive',\n",
              "                                                    [key], {});\n",
              "        if (!dataTable) return;\n",
              "\n",
              "        const docLinkHtml = 'Like what you see? Visit the ' +\n",
              "          '<a target=\"_blank\" href=https://colab.research.google.com/notebooks/data_table.ipynb>data table notebook</a>'\n",
              "          + ' to learn more about interactive tables.';\n",
              "        element.innerHTML = '';\n",
              "        dataTable['output_type'] = 'display_data';\n",
              "        await google.colab.output.renderOutput(dataTable, element);\n",
              "        const docLink = document.createElement('div');\n",
              "        docLink.innerHTML = docLinkHtml;\n",
              "        element.appendChild(docLink);\n",
              "      }\n",
              "    </script>\n",
              "  </div>\n",
              "\n",
              "\n",
              "<div id=\"df-77e30e02-a20d-49e7-b2e7-85ac46d1a0f5\">\n",
              "  <button class=\"colab-df-quickchart\" onclick=\"quickchart('df-77e30e02-a20d-49e7-b2e7-85ac46d1a0f5')\"\n",
              "            title=\"Suggest charts\"\n",
              "            style=\"display:none;\">\n",
              "\n",
              "<svg xmlns=\"http://www.w3.org/2000/svg\" height=\"24px\"viewBox=\"0 0 24 24\"\n",
              "     width=\"24px\">\n",
              "    <g>\n",
              "        <path d=\"M19 3H5c-1.1 0-2 .9-2 2v14c0 1.1.9 2 2 2h14c1.1 0 2-.9 2-2V5c0-1.1-.9-2-2-2zM9 17H7v-7h2v7zm4 0h-2V7h2v10zm4 0h-2v-4h2v4z\"/>\n",
              "    </g>\n",
              "</svg>\n",
              "  </button>\n",
              "\n",
              "<style>\n",
              "  .colab-df-quickchart {\n",
              "      --bg-color: #E8F0FE;\n",
              "      --fill-color: #1967D2;\n",
              "      --hover-bg-color: #E2EBFA;\n",
              "      --hover-fill-color: #174EA6;\n",
              "      --disabled-fill-color: #AAA;\n",
              "      --disabled-bg-color: #DDD;\n",
              "  }\n",
              "\n",
              "  [theme=dark] .colab-df-quickchart {\n",
              "      --bg-color: #3B4455;\n",
              "      --fill-color: #D2E3FC;\n",
              "      --hover-bg-color: #434B5C;\n",
              "      --hover-fill-color: #FFFFFF;\n",
              "      --disabled-bg-color: #3B4455;\n",
              "      --disabled-fill-color: #666;\n",
              "  }\n",
              "\n",
              "  .colab-df-quickchart {\n",
              "    background-color: var(--bg-color);\n",
              "    border: none;\n",
              "    border-radius: 50%;\n",
              "    cursor: pointer;\n",
              "    display: none;\n",
              "    fill: var(--fill-color);\n",
              "    height: 32px;\n",
              "    padding: 0;\n",
              "    width: 32px;\n",
              "  }\n",
              "\n",
              "  .colab-df-quickchart:hover {\n",
              "    background-color: var(--hover-bg-color);\n",
              "    box-shadow: 0 1px 2px rgba(60, 64, 67, 0.3), 0 1px 3px 1px rgba(60, 64, 67, 0.15);\n",
              "    fill: var(--button-hover-fill-color);\n",
              "  }\n",
              "\n",
              "  .colab-df-quickchart-complete:disabled,\n",
              "  .colab-df-quickchart-complete:disabled:hover {\n",
              "    background-color: var(--disabled-bg-color);\n",
              "    fill: var(--disabled-fill-color);\n",
              "    box-shadow: none;\n",
              "  }\n",
              "\n",
              "  .colab-df-spinner {\n",
              "    border: 2px solid var(--fill-color);\n",
              "    border-color: transparent;\n",
              "    border-bottom-color: var(--fill-color);\n",
              "    animation:\n",
              "      spin 1s steps(1) infinite;\n",
              "  }\n",
              "\n",
              "  @keyframes spin {\n",
              "    0% {\n",
              "      border-color: transparent;\n",
              "      border-bottom-color: var(--fill-color);\n",
              "      border-left-color: var(--fill-color);\n",
              "    }\n",
              "    20% {\n",
              "      border-color: transparent;\n",
              "      border-left-color: var(--fill-color);\n",
              "      border-top-color: var(--fill-color);\n",
              "    }\n",
              "    30% {\n",
              "      border-color: transparent;\n",
              "      border-left-color: var(--fill-color);\n",
              "      border-top-color: var(--fill-color);\n",
              "      border-right-color: var(--fill-color);\n",
              "    }\n",
              "    40% {\n",
              "      border-color: transparent;\n",
              "      border-right-color: var(--fill-color);\n",
              "      border-top-color: var(--fill-color);\n",
              "    }\n",
              "    60% {\n",
              "      border-color: transparent;\n",
              "      border-right-color: var(--fill-color);\n",
              "    }\n",
              "    80% {\n",
              "      border-color: transparent;\n",
              "      border-right-color: var(--fill-color);\n",
              "      border-bottom-color: var(--fill-color);\n",
              "    }\n",
              "    90% {\n",
              "      border-color: transparent;\n",
              "      border-bottom-color: var(--fill-color);\n",
              "    }\n",
              "  }\n",
              "</style>\n",
              "\n",
              "  <script>\n",
              "    async function quickchart(key) {\n",
              "      const quickchartButtonEl =\n",
              "        document.querySelector('#' + key + ' button');\n",
              "      quickchartButtonEl.disabled = true;  // To prevent multiple clicks.\n",
              "      quickchartButtonEl.classList.add('colab-df-spinner');\n",
              "      try {\n",
              "        const charts = await google.colab.kernel.invokeFunction(\n",
              "            'suggestCharts', [key], {});\n",
              "      } catch (error) {\n",
              "        console.error('Error during call to suggestCharts:', error);\n",
              "      }\n",
              "      quickchartButtonEl.classList.remove('colab-df-spinner');\n",
              "      quickchartButtonEl.classList.add('colab-df-quickchart-complete');\n",
              "    }\n",
              "    (() => {\n",
              "      let quickchartButtonEl =\n",
              "        document.querySelector('#df-77e30e02-a20d-49e7-b2e7-85ac46d1a0f5 button');\n",
              "      quickchartButtonEl.style.display =\n",
              "        google.colab.kernel.accessAllowed ? 'block' : 'none';\n",
              "    })();\n",
              "  </script>\n",
              "</div>\n",
              "\n",
              "  <div id=\"id_f7c8fee4-6a57-4f29-b3e6-f3c76b2ec0f4\">\n",
              "    <style>\n",
              "      .colab-df-generate {\n",
              "        background-color: #E8F0FE;\n",
              "        border: none;\n",
              "        border-radius: 50%;\n",
              "        cursor: pointer;\n",
              "        display: none;\n",
              "        fill: #1967D2;\n",
              "        height: 32px;\n",
              "        padding: 0 0 0 0;\n",
              "        width: 32px;\n",
              "      }\n",
              "\n",
              "      .colab-df-generate:hover {\n",
              "        background-color: #E2EBFA;\n",
              "        box-shadow: 0px 1px 2px rgba(60, 64, 67, 0.3), 0px 1px 3px 1px rgba(60, 64, 67, 0.15);\n",
              "        fill: #174EA6;\n",
              "      }\n",
              "\n",
              "      [theme=dark] .colab-df-generate {\n",
              "        background-color: #3B4455;\n",
              "        fill: #D2E3FC;\n",
              "      }\n",
              "\n",
              "      [theme=dark] .colab-df-generate:hover {\n",
              "        background-color: #434B5C;\n",
              "        box-shadow: 0px 1px 3px 1px rgba(0, 0, 0, 0.15);\n",
              "        filter: drop-shadow(0px 1px 2px rgba(0, 0, 0, 0.3));\n",
              "        fill: #FFFFFF;\n",
              "      }\n",
              "    </style>\n",
              "    <button class=\"colab-df-generate\" onclick=\"generateWithVariable('df1')\"\n",
              "            title=\"Generate code using this dataframe.\"\n",
              "            style=\"display:none;\">\n",
              "\n",
              "  <svg xmlns=\"http://www.w3.org/2000/svg\" height=\"24px\"viewBox=\"0 0 24 24\"\n",
              "       width=\"24px\">\n",
              "    <path d=\"M7,19H8.4L18.45,9,17,7.55,7,17.6ZM5,21V16.75L18.45,3.32a2,2,0,0,1,2.83,0l1.4,1.43a1.91,1.91,0,0,1,.58,1.4,1.91,1.91,0,0,1-.58,1.4L9.25,21ZM18.45,9,17,7.55Zm-12,3A5.31,5.31,0,0,0,4.9,8.1,5.31,5.31,0,0,0,1,6.5,5.31,5.31,0,0,0,4.9,4.9,5.31,5.31,0,0,0,6.5,1,5.31,5.31,0,0,0,8.1,4.9,5.31,5.31,0,0,0,12,6.5,5.46,5.46,0,0,0,6.5,12Z\"/>\n",
              "  </svg>\n",
              "    </button>\n",
              "    <script>\n",
              "      (() => {\n",
              "      const buttonEl =\n",
              "        document.querySelector('#id_f7c8fee4-6a57-4f29-b3e6-f3c76b2ec0f4 button.colab-df-generate');\n",
              "      buttonEl.style.display =\n",
              "        google.colab.kernel.accessAllowed ? 'block' : 'none';\n",
              "\n",
              "      buttonEl.onclick = () => {\n",
              "        google.colab.notebook.generateWithVariable('df1');\n",
              "      }\n",
              "      })();\n",
              "    </script>\n",
              "  </div>\n",
              "\n",
              "    </div>\n",
              "  </div>\n"
            ],
            "application/vnd.google.colaboratory.intrinsic+json": {
              "type": "dataframe",
              "variable_name": "df1",
              "summary": "{\n  \"name\": \"df1\",\n  \"rows\": 8,\n  \"fields\": [\n    {\n      \"column\": \"name\",\n      \"properties\": {\n        \"dtype\": \"string\",\n        \"num_unique_values\": 8,\n        \"samples\": [\n          \"Minju\",\n          \"Sunny\",\n          \"Minsoo\"\n        ],\n        \"semantic_type\": \"\",\n        \"description\": \"\"\n      }\n    },\n    {\n      \"column\": \"old\",\n      \"properties\": {\n        \"dtype\": \"number\",\n        \"std\": 6,\n        \"min\": 19,\n        \"max\": 36,\n        \"num_unique_values\": 6,\n        \"samples\": [\n          33,\n          25,\n          23\n        ],\n        \"semantic_type\": \"\",\n        \"description\": \"\"\n      }\n    },\n    {\n      \"column\": \"sex\",\n      \"properties\": {\n        \"dtype\": \"category\",\n        \"num_unique_values\": 2,\n        \"samples\": [\n          \"W\",\n          \"M\"\n        ],\n        \"semantic_type\": \"\",\n        \"description\": \"\"\n      }\n    },\n    {\n      \"column\": \"score1\",\n      \"properties\": {\n        \"dtype\": \"number\",\n        \"std\": 19,\n        \"min\": 43,\n        \"max\": 98,\n        \"num_unique_values\": 8,\n        \"samples\": [\n          50,\n          85\n        ],\n        \"semantic_type\": \"\",\n        \"description\": \"\"\n      }\n    },\n    {\n      \"column\": \"score2\",\n      \"properties\": {\n        \"dtype\": \"number\",\n        \"std\": 11,\n        \"min\": 56,\n        \"max\": 91,\n        \"num_unique_values\": 8,\n        \"samples\": [\n          77,\n          91\n        ],\n        \"semantic_type\": \"\",\n        \"description\": \"\"\n      }\n    },\n    {\n      \"column\": \"time\",\n      \"properties\": {\n        \"dtype\": \"number\",\n        \"std\": 30,\n        \"min\": 15,\n        \"max\": 95,\n        \"num_unique_values\": 8,\n        \"samples\": [\n          95,\n          69\n        ],\n        \"semantic_type\": \"\",\n        \"description\": \"\"\n      }\n    }\n  ]\n}"
            }
          },
          "metadata": {},
          "execution_count": 190
        }
      ]
    },
    {
      "cell_type": "code",
      "source": [
        "# 나이가 30대 이상인 조건 추출하기\n",
        "\n"
      ],
      "metadata": {
        "id": "yir3ul8YXE5R"
      },
      "execution_count": null,
      "outputs": []
    },
    {
      "cell_type": "code",
      "source": [
        "# 여성 중에 score1이 70점 미만인 조건 추출하기\n"
      ],
      "metadata": {
        "id": "-S7YBkNaXEhm"
      },
      "execution_count": null,
      "outputs": []
    },
    {
      "cell_type": "code",
      "source": [
        "# score1이나 score2 둘 중 하나가 80점 이상인 조건 추출하기\n",
        "\n"
      ],
      "metadata": {
        "id": "hKLxkK6yXEWj"
      },
      "execution_count": null,
      "outputs": []
    },
    {
      "cell_type": "code",
      "source": [
        "# 나이가 20대이거나 문제를 푸는데 걸리는 시간이 40초보다 짧은 조건 추출하기\n",
        "\n"
      ],
      "metadata": {
        "id": "HaVIywAqXPee"
      },
      "execution_count": null,
      "outputs": []
    },
    {
      "cell_type": "code",
      "source": [
        "# 깔끔하게 조건을 저장하고 사용하면 편하다.\n",
        "\n",
        "con1 = (df1['sex']=='W')\n",
        "con2 = (df1['score1']<70)\n",
        "\n",
        "# df1[ con1 & con2 ]\n",
        "# df1[ con1 | con2 ]\n",
        "# df1[ ~con1]\n",
        "\n",
        "df1[~ ( con1 & con2 ) ]"
      ],
      "metadata": {
        "id": "C3KT29VYZ_eE"
      },
      "execution_count": null,
      "outputs": []
    }
  ],
  "metadata": {
    "colab": {
      "provenance": []
    },
    "kernelspec": {
      "display_name": "Python 3 (ipykernel)",
      "language": "python",
      "name": "python3"
    },
    "language_info": {
      "codemirror_mode": {
        "name": "ipython",
        "version": 3
      },
      "file_extension": ".py",
      "mimetype": "text/x-python",
      "name": "python",
      "nbconvert_exporter": "python",
      "pygments_lexer": "ipython3",
      "version": "3.9.12"
    }
  },
  "nbformat": 4,
  "nbformat_minor": 0
}