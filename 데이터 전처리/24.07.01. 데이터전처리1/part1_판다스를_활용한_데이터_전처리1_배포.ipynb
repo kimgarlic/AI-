{
  "cells": [
    {
      "cell_type": "markdown",
      "metadata": {
        "id": "jToieEFP7opK"
      },
      "source": [
        "#Section01. 파일처리\n",
        "## 1. 파이썬에서 파일 처리\n",
        "### 파일열기 : open 함수"
      ]
    },
    {
      "cell_type": "code",
      "execution_count": null,
      "metadata": {
        "id": "efbnUaKQ7iLl"
      },
      "outputs": [],
      "source": [
        "f=open('file.txt', 'rt', encoding='UTF8')\n",
        "for line in f:\n",
        "    print(line, end=\"\")\n"
      ]
    },
    {
      "cell_type": "markdown",
      "metadata": {
        "id": "h7DlklUj8jOJ"
      },
      "source": [
        "###자동으로 파일 열고 닫기: with 문"
      ]
    },
    {
      "cell_type": "code",
      "execution_count": null,
      "metadata": {
        "id": "lNdH8W9e8laV"
      },
      "outputs": [],
      "source": [
        "\n",
        "with open(\"proverb.txt\",'r', encoding='UTF8', newline='') as filereader:\n",
        "  for row in filereader:\n",
        "    print(row.strip())"
      ]
    },
    {
      "cell_type": "markdown",
      "metadata": {
        "id": "tHyf2EYN86OB"
      },
      "source": [
        "###여러 파일 읽기: os와 glob 모듈\n",
        "- 폴더 내의 텍스트 파일 여러개를 모두 읽어서 출력"
      ]
    },
    {
      "cell_type": "code",
      "execution_count": null,
      "metadata": {
        "id": "xk6QdS4h88-c"
      },
      "outputs": [],
      "source": [
        "import os\n",
        "import glob\n",
        "\n",
        "for file in glob.glob(os.path.join('*.txt')):\n",
        "  with open(file, 'r', newline='',encoding='UTF8') as filereader:\n",
        "      for row in filereader:\n",
        "        print(\"{}\".format(row.strip( )))"
      ]
    },
    {
      "cell_type": "code",
      "source": [
        "# 셀프 스터디\n",
        "\n",
        "# 폴더 안의 모든 파일의 내용을 묶어서 파일로 출력\n",
        "\n",
        "import os\n",
        "import glob\n",
        "\n",
        " # 위 코드 활용\n",
        "\n"
      ],
      "metadata": {
        "id": "oTHT_moczlJt"
      },
      "execution_count": null,
      "outputs": []
    },
    {
      "cell_type": "markdown",
      "metadata": {
        "id": "qtDw-q5z9LxD"
      },
      "source": [
        "### 문자열 공백/문자 제거: strip, lstrip, rstrip 함수"
      ]
    },
    {
      "cell_type": "code",
      "execution_count": null,
      "metadata": {
        "id": "SehINnZa9O_X"
      },
      "outputs": [],
      "source": [
        "b1=\" 작은 일에 성실한 사람은      큰일에도 성실하고 \"\n",
        "b1.strip( ) # 앞뒤의 불필요한 공백 제거"
      ]
    },
    {
      "cell_type": "code",
      "execution_count": null,
      "metadata": {
        "id": "cFfBnxrk9VaR"
      },
      "outputs": [],
      "source": [
        "text=\"....작은 일에 성실한 사람은, 큰일에도 성실하고....\"\n",
        "print(text.lstrip('.'))\n",
        "print(text.rstrip('.'))\n",
        "print(text.strip('.'))"
      ]
    },
    {
      "cell_type": "markdown",
      "metadata": {
        "id": "3E3iMTKP9b7-"
      },
      "source": [
        "###문자열 분리: split 함수"
      ]
    },
    {
      "cell_type": "code",
      "execution_count": null,
      "metadata": {
        "id": "VNaUeo189eSy"
      },
      "outputs": [],
      "source": [
        "text=\"....작은 일에 성실한 사람은, 큰일에도 성실하고....\"\n",
        "print(text.split(\", \"))\n",
        "\n",
        "# 결과를 리스트로 저장"
      ]
    },
    {
      "cell_type": "code",
      "execution_count": null,
      "metadata": {
        "id": "XUx1jc6h9nEq"
      },
      "outputs": [],
      "source": [
        "numbers= \"1. 2. 3. 4. 5. 6\"   # 실수가 아니고 문자열\n",
        "result=numbers.split(\". \")\n",
        "print(result)"
      ]
    },
    {
      "cell_type": "markdown",
      "metadata": {
        "id": "fR9_fUoE9wY5"
      },
      "source": [
        "###웹 페이지에서 CSV 파일 가져오기"
      ]
    },
    {
      "cell_type": "code",
      "execution_count": null,
      "metadata": {
        "id": "BDP6dwkV9yi7"
      },
      "outputs": [],
      "source": [
        "import pandas as pd\n",
        "\n",
        "titanic_df=pd.read_csv('https://raw.githubusercontent.com/sehakflower/data/main/titanic.csv')\n",
        "titanic_df"
      ]
    },
    {
      "cell_type": "markdown",
      "metadata": {
        "id": "5V8m0t1X91kr"
      },
      "source": [
        "###탭을 기준으로 분리하기"
      ]
    },
    {
      "cell_type": "code",
      "execution_count": null,
      "metadata": {
        "id": "PLoJdgAE95bC"
      },
      "outputs": [],
      "source": [
        "url='https://raw.githubusercontent.com/sehakflower/data/main/titanic.csv'\n",
        "titanic_df=pd.read_csv(url, sep='\\t')   # \\t -> 탭으로 구분하여 가져오기\n",
        "titanic_df"
      ]
    },
    {
      "cell_type": "markdown",
      "metadata": {
        "id": "v-l9T1PS990j"
      },
      "source": [
        "###<여기서 잠깐> 데이터 분리하기"
      ]
    },
    {
      "cell_type": "code",
      "execution_count": null,
      "metadata": {
        "id": "PuNV3FOz-BP8"
      },
      "outputs": [],
      "source": [
        "print('apple', 'banana')\n",
        "print('apple', 'banana', sep='')\n",
        "print('apple', 'banana', sep='  ')\n",
        "print('apple', 'banana', sep=' -> -> ')\n",
        "print('apple', 'banana','eggs', 'ham')\n",
        "print('apple', 'banana', 'eggs', 'ham', sep='\\t')\n",
        "print('apple', 'banana', 'eggs', 'ham', sep='\\t\\t')"
      ]
    },
    {
      "cell_type": "markdown",
      "metadata": {
        "id": "3mk9h0ak-ESg"
      },
      "source": [
        "###엑셀 파일 가져오기"
      ]
    },
    {
      "cell_type": "markdown",
      "metadata": {
        "id": "yy_5b6wk-Vzs"
      },
      "source": [
        "#Section 02. 데이터 처리\n",
        "## 1. 데이터 살펴보기\n",
        "### 앞뒤 데이터 보기: head, tail 함수"
      ]
    },
    {
      "cell_type": "code",
      "execution_count": null,
      "metadata": {
        "id": "5qF-b7aA-bv-"
      },
      "outputs": [],
      "source": [
        "# 링크에서 가져온 타이타닉 데이터\n",
        "# head()  : 위쪽에석 5행\n",
        "titanic_df.head(7)"
      ]
    },
    {
      "cell_type": "code",
      "execution_count": null,
      "metadata": {
        "id": "F7aP7dFQ-ef4"
      },
      "outputs": [],
      "source": [
        "titanic_df.tail(7)"
      ]
    },
    {
      "cell_type": "markdown",
      "metadata": {
        "id": "AESmmIRv-iU-"
      },
      "source": [
        "###데이터 개수/형태 확인하기: len/shape 함수"
      ]
    },
    {
      "cell_type": "code",
      "execution_count": null,
      "metadata": {
        "colab": {
          "base_uri": "https://localhost:8080/"
        },
        "id": "B_IeT4cQ-kIH",
        "outputId": "ddcab3a9-f61f-41f1-a755-c99860dde2e5"
      },
      "outputs": [
        {
          "output_type": "execute_result",
          "data": {
            "text/plain": [
              "156"
            ]
          },
          "metadata": {},
          "execution_count": 46
        }
      ],
      "source": [
        "len(titanic_df)"
      ]
    },
    {
      "cell_type": "code",
      "execution_count": null,
      "metadata": {
        "colab": {
          "base_uri": "https://localhost:8080/"
        },
        "id": "4SxGm9qO-mgy",
        "outputId": "01cd4f0c-4315-4e9c-e6f8-15852134f1da"
      },
      "outputs": [
        {
          "output_type": "execute_result",
          "data": {
            "text/plain": [
              "(156, 12)"
            ]
          },
          "metadata": {},
          "execution_count": 47
        }
      ],
      "source": [
        "titanic_df.shape"
      ]
    },
    {
      "cell_type": "markdown",
      "metadata": {
        "id": "U_JJzjxK-tb-"
      },
      "source": [
        "###결측치와 데이터형 확인하기: info 함수"
      ]
    },
    {
      "cell_type": "code",
      "execution_count": null,
      "metadata": {
        "id": "Y6hzfqWP-y-v"
      },
      "outputs": [],
      "source": [
        "# 다양한 정보 확인 가능\n",
        "# 자료구조 / 크기 / 컬럼명 / 널 정보 / 데이터 타입\n",
        "\n",
        "titanic_df.info( )"
      ]
    },
    {
      "cell_type": "markdown",
      "metadata": {
        "id": "Fn9Bu5b1-oMW"
      },
      "source": [
        "###데이터의 기본 통계치 보기: describe 함수"
      ]
    },
    {
      "cell_type": "code",
      "execution_count": null,
      "metadata": {
        "id": "5wM-cQGA-qq2"
      },
      "outputs": [],
      "source": [
        "\n",
        "titanic_df.describe( )"
      ]
    },
    {
      "cell_type": "markdown",
      "metadata": {
        "id": "t9xKqOyL-1Oc"
      },
      "source": [
        "##2. 열/행 정리하기\n",
        "###열 이름 변경하기"
      ]
    },
    {
      "cell_type": "code",
      "execution_count": null,
      "metadata": {
        "id": "sYXrO-sQ-5Jk"
      },
      "outputs": [],
      "source": [
        "titanic_df.columns"
      ]
    },
    {
      "cell_type": "code",
      "execution_count": null,
      "metadata": {
        "id": "f4nUxmcv-8pR"
      },
      "outputs": [],
      "source": [
        "# 컬럼명 일괄적으로 한번에 다 변경\n",
        "\n",
        "new_columns=['passengerId', 'survived', 'pclass', 'name', 'sex', 'age', 'sibsp', 'parch',\n",
        "'ticket', 'fare', 'cabin', 'embarked']\n",
        "\n",
        "titanic_df.columns=new_columns\n",
        "titanic_df.columns"
      ]
    },
    {
      "cell_type": "code",
      "execution_count": null,
      "metadata": {
        "id": "8M5jbDAc-_Ki"
      },
      "outputs": [],
      "source": [
        "titanic_df"
      ]
    },
    {
      "cell_type": "markdown",
      "metadata": {
        "id": "Nm4C04Pg_Bio"
      },
      "source": [
        "###데이터프레임 복사하기"
      ]
    },
    {
      "cell_type": "code",
      "execution_count": null,
      "metadata": {
        "id": "pxDw2mUV_DmO"
      },
      "outputs": [],
      "source": [
        "# 실습을 위해 복사본을 만들자\n",
        "\n",
        "copy_titanic_df=titanic_df.copy( )\n",
        "\n",
        "df=titanic_df.copy( )\n",
        "\n",
        "copy_titanic_df.head( )"
      ]
    },
    {
      "cell_type": "markdown",
      "metadata": {
        "id": "rqSh_Kqk_GWX"
      },
      "source": [
        "###행 추가하기\n",
        "- .loc[]=[]  1개 행 추가\n",
        "- .cancat() 으로 여러행 추가\n",
        "- .concat()과 .iloc[:] 원하는 위치에 행 추가하기"
      ]
    },
    {
      "cell_type": "code",
      "source": [
        "copy_titanic_df"
      ],
      "metadata": {
        "id": "TQ3LFb7_-L_q"
      },
      "execution_count": null,
      "outputs": []
    },
    {
      "cell_type": "code",
      "source": [
        "# 행 추가\n",
        "# 딕셔너리 자료를 추가\n",
        "\n",
        "copy_titanic_df.loc[len(copy_titanic_df)] = ( {   'passengerId':1, 'survived':1, 'pclass':1, 'name':1, 'sex':1,'age':1,\n",
        "                                                  'sibsp':1, 'parch':1, 'ticket':1, 'fare':1, 'cabin':1, 'embarked':1}   )\n",
        "\n",
        "copy_titanic_df"
      ],
      "metadata": {
        "id": "YWm3ohs__FZC"
      },
      "execution_count": null,
      "outputs": []
    },
    {
      "cell_type": "code",
      "source": [
        "# 행 추가\n",
        "# 리스트 자료를 추가  : 갯수가 맞아야 한다. (12개) // 안맞으면 오류\n",
        "\n",
        "copy_titanic_df.loc[len(copy_titanic_df)] = [1,1,1,1,1,1,1,1,1,1,1,1]\n",
        "\n",
        "copy_titanic_df.tail()"
      ],
      "metadata": {
        "id": "vnUvLXrl-jOQ"
      },
      "execution_count": null,
      "outputs": []
    },
    {
      "cell_type": "markdown",
      "metadata": {
        "id": "fVSZZnDx_Ty5"
      },
      "source": [
        "###열 추가하기"
      ]
    },
    {
      "cell_type": "code",
      "execution_count": null,
      "metadata": {
        "id": "17qI1kKt_Wef"
      },
      "outputs": [],
      "source": [
        "# 열 추가하기\n",
        "\n",
        "copy_titanic_df['gender']=1\n",
        "copy_titanic_df.tail( )"
      ]
    },
    {
      "cell_type": "code",
      "execution_count": null,
      "metadata": {
        "id": "8ZpYa544_Y5S"
      },
      "outputs": [],
      "source": [
        "# 열값 변경\n",
        "# 바로 뒤에 행열 추출, 조건 추출  학습함\n",
        "\n",
        "copy_titanic_df.loc[copy_titanic_df['sex']=='female', 'gender'] = 0\n",
        "copy_titanic_df.head( )"
      ]
    },
    {
      "cell_type": "markdown",
      "metadata": {
        "id": "dQnvKnJg_bxs"
      },
      "source": [
        "##3. 인덱스 정리하기\n",
        "###index 속성"
      ]
    },
    {
      "cell_type": "code",
      "execution_count": null,
      "metadata": {
        "id": "bAnvyXNH_fYG"
      },
      "outputs": [],
      "source": [
        "titanic_df.index"
      ]
    },
    {
      "cell_type": "markdown",
      "metadata": {
        "id": "Xo5wtFFx_h9b"
      },
      "source": [
        "###values 속성"
      ]
    },
    {
      "cell_type": "code",
      "execution_count": null,
      "metadata": {
        "id": "1vacG0Dg_kIw"
      },
      "outputs": [],
      "source": [
        "titanic_df.values"
      ]
    },
    {
      "cell_type": "markdown",
      "metadata": {
        "id": "eot37dgv_wkI"
      },
      "source": [
        "##4. 데이터 정렬하기\n",
        "- 인덱스 기준으로 정렬하기\n",
        "\n",
        "- 앞부분에서 학습했으므로 가볍게 넘어가자"
      ]
    },
    {
      "cell_type": "code",
      "execution_count": null,
      "metadata": {
        "id": "kwP0ob0n_05Z"
      },
      "outputs": [],
      "source": [
        "titanic_df.sort_index( )   # 인덱스 값을 정렬"
      ]
    },
    {
      "cell_type": "markdown",
      "metadata": {
        "id": "pfTgnc3y_3xl"
      },
      "source": [
        "###열 기준으로 정렬하기"
      ]
    },
    {
      "cell_type": "code",
      "execution_count": null,
      "metadata": {
        "id": "hNlGL7Z4_574"
      },
      "outputs": [],
      "source": [
        "titanic_df.sort_values(by='age') # 오름차순 정렬\n",
        "titanic_df.sort_values(by='age', ascending=False) # 내림차순 정렬"
      ]
    },
    {
      "cell_type": "code",
      "execution_count": null,
      "metadata": {
        "id": "i1CBQNEo_-PI"
      },
      "outputs": [],
      "source": [
        "titanic_df.sort_values(by=['age', 'pclass']) # 오름차순 정렬\n"
      ]
    },
    {
      "cell_type": "code",
      "source": [
        "titanic_df.sort_values(by=['age', 'pclass'], ascending=False) # 내림차순 정렬\n"
      ],
      "metadata": {
        "id": "v21AJr3DDuAM"
      },
      "execution_count": null,
      "outputs": []
    },
    {
      "cell_type": "code",
      "source": [
        "# 두개 컬럼으로 정렬\n",
        "titanic_df.sort_values(by=[ 'pclass','age'], ascending=[True,False]) # 내림차순 정렬"
      ],
      "metadata": {
        "id": "oBkmpmzkDpjH"
      },
      "execution_count": null,
      "outputs": []
    },
    {
      "cell_type": "markdown",
      "metadata": {
        "id": "2EI7dNtxAGYz"
      },
      "source": [
        "##5. 데이터 가져오기\n",
        "### 원하는 컬럼의 값 가져오기"
      ]
    },
    {
      "cell_type": "code",
      "execution_count": null,
      "metadata": {
        "id": "41vfxQsN_qJH"
      },
      "outputs": [],
      "source": [
        "# 데이터프레임에서 한개 컬럼의 값을 추출 -> 시리즈  ==> [['컬럼명]] -> 데이터프레임이 된다\n",
        "# 데이터프레임에서 여러개 컬럼의 값을 추출 -> 데이터프레임\n",
        "\n",
        "# 한개 컬럼의 값 가져오기\n",
        "\n",
        "a=titanic_df['age'] # Series 객체는 1차원 배열(ndarray)과 호환됨\n",
        "print(type(a))\n",
        "a"
      ]
    },
    {
      "cell_type": "code",
      "source": [
        "a=titanic_df[  ['age']  ]\n",
        "a"
      ],
      "metadata": {
        "id": "DcRUgWK8FfZ0"
      },
      "execution_count": null,
      "outputs": []
    },
    {
      "cell_type": "code",
      "source": [
        "# 여러개 컬럼의 값 가져오기 -> 컬럼명 사용\n",
        "\n",
        "a = titanic_df[ ['age', 'name', 'sex','fare'] ]   # ***\n",
        "a"
      ],
      "metadata": {
        "colab": {
          "base_uri": "https://localhost:8080/",
          "height": 423
        },
        "id": "UQJSbWOzFHTP",
        "outputId": "abb32fb2-182d-49e0-b38b-30e58d306c88"
      },
      "execution_count": null,
      "outputs": [
        {
          "output_type": "execute_result",
          "data": {
            "text/plain": [
              "      age                                               name     sex     fare\n",
              "0    22.0                            Braund, Mr. Owen Harris    male   7.2500\n",
              "1    38.0  Cumings, Mrs. John Bradley (Florence Briggs Th...  female  71.2833\n",
              "2    26.0                             Heikkinen, Miss. Laina  female   7.9250\n",
              "3    35.0       Futrelle, Mrs. Jacques Heath (Lily May Peel)  female  53.1000\n",
              "4    35.0                           Allen, Mr. William Henry    male   8.0500\n",
              "..    ...                                                ...     ...      ...\n",
              "151  22.0                  Pears, Mrs. Thomas (Edith Wearne)  female  66.6000\n",
              "152  55.5                                   Meo, Mr. Alfonzo    male   8.0500\n",
              "153  40.5                    van Billiard, Mr. Austin Blyler    male  14.5000\n",
              "154   NaN                              Olsen, Mr. Ole Martin    male   7.3125\n",
              "155  51.0                        Williams, Mr. Charles Duane    male  61.3792\n",
              "\n",
              "[156 rows x 4 columns]"
            ],
            "text/html": [
              "\n",
              "  <div id=\"df-e8cec6a3-9974-424a-9549-e502ecebc4e7\" class=\"colab-df-container\">\n",
              "    <div>\n",
              "<style scoped>\n",
              "    .dataframe tbody tr th:only-of-type {\n",
              "        vertical-align: middle;\n",
              "    }\n",
              "\n",
              "    .dataframe tbody tr th {\n",
              "        vertical-align: top;\n",
              "    }\n",
              "\n",
              "    .dataframe thead th {\n",
              "        text-align: right;\n",
              "    }\n",
              "</style>\n",
              "<table border=\"1\" class=\"dataframe\">\n",
              "  <thead>\n",
              "    <tr style=\"text-align: right;\">\n",
              "      <th></th>\n",
              "      <th>age</th>\n",
              "      <th>name</th>\n",
              "      <th>sex</th>\n",
              "      <th>fare</th>\n",
              "    </tr>\n",
              "  </thead>\n",
              "  <tbody>\n",
              "    <tr>\n",
              "      <th>0</th>\n",
              "      <td>22.0</td>\n",
              "      <td>Braund, Mr. Owen Harris</td>\n",
              "      <td>male</td>\n",
              "      <td>7.2500</td>\n",
              "    </tr>\n",
              "    <tr>\n",
              "      <th>1</th>\n",
              "      <td>38.0</td>\n",
              "      <td>Cumings, Mrs. John Bradley (Florence Briggs Th...</td>\n",
              "      <td>female</td>\n",
              "      <td>71.2833</td>\n",
              "    </tr>\n",
              "    <tr>\n",
              "      <th>2</th>\n",
              "      <td>26.0</td>\n",
              "      <td>Heikkinen, Miss. Laina</td>\n",
              "      <td>female</td>\n",
              "      <td>7.9250</td>\n",
              "    </tr>\n",
              "    <tr>\n",
              "      <th>3</th>\n",
              "      <td>35.0</td>\n",
              "      <td>Futrelle, Mrs. Jacques Heath (Lily May Peel)</td>\n",
              "      <td>female</td>\n",
              "      <td>53.1000</td>\n",
              "    </tr>\n",
              "    <tr>\n",
              "      <th>4</th>\n",
              "      <td>35.0</td>\n",
              "      <td>Allen, Mr. William Henry</td>\n",
              "      <td>male</td>\n",
              "      <td>8.0500</td>\n",
              "    </tr>\n",
              "    <tr>\n",
              "      <th>...</th>\n",
              "      <td>...</td>\n",
              "      <td>...</td>\n",
              "      <td>...</td>\n",
              "      <td>...</td>\n",
              "    </tr>\n",
              "    <tr>\n",
              "      <th>151</th>\n",
              "      <td>22.0</td>\n",
              "      <td>Pears, Mrs. Thomas (Edith Wearne)</td>\n",
              "      <td>female</td>\n",
              "      <td>66.6000</td>\n",
              "    </tr>\n",
              "    <tr>\n",
              "      <th>152</th>\n",
              "      <td>55.5</td>\n",
              "      <td>Meo, Mr. Alfonzo</td>\n",
              "      <td>male</td>\n",
              "      <td>8.0500</td>\n",
              "    </tr>\n",
              "    <tr>\n",
              "      <th>153</th>\n",
              "      <td>40.5</td>\n",
              "      <td>van Billiard, Mr. Austin Blyler</td>\n",
              "      <td>male</td>\n",
              "      <td>14.5000</td>\n",
              "    </tr>\n",
              "    <tr>\n",
              "      <th>154</th>\n",
              "      <td>NaN</td>\n",
              "      <td>Olsen, Mr. Ole Martin</td>\n",
              "      <td>male</td>\n",
              "      <td>7.3125</td>\n",
              "    </tr>\n",
              "    <tr>\n",
              "      <th>155</th>\n",
              "      <td>51.0</td>\n",
              "      <td>Williams, Mr. Charles Duane</td>\n",
              "      <td>male</td>\n",
              "      <td>61.3792</td>\n",
              "    </tr>\n",
              "  </tbody>\n",
              "</table>\n",
              "<p>156 rows × 4 columns</p>\n",
              "</div>\n",
              "    <div class=\"colab-df-buttons\">\n",
              "\n",
              "  <div class=\"colab-df-container\">\n",
              "    <button class=\"colab-df-convert\" onclick=\"convertToInteractive('df-e8cec6a3-9974-424a-9549-e502ecebc4e7')\"\n",
              "            title=\"Convert this dataframe to an interactive table.\"\n",
              "            style=\"display:none;\">\n",
              "\n",
              "  <svg xmlns=\"http://www.w3.org/2000/svg\" height=\"24px\" viewBox=\"0 -960 960 960\">\n",
              "    <path d=\"M120-120v-720h720v720H120Zm60-500h600v-160H180v160Zm220 220h160v-160H400v160Zm0 220h160v-160H400v160ZM180-400h160v-160H180v160Zm440 0h160v-160H620v160ZM180-180h160v-160H180v160Zm440 0h160v-160H620v160Z\"/>\n",
              "  </svg>\n",
              "    </button>\n",
              "\n",
              "  <style>\n",
              "    .colab-df-container {\n",
              "      display:flex;\n",
              "      gap: 12px;\n",
              "    }\n",
              "\n",
              "    .colab-df-convert {\n",
              "      background-color: #E8F0FE;\n",
              "      border: none;\n",
              "      border-radius: 50%;\n",
              "      cursor: pointer;\n",
              "      display: none;\n",
              "      fill: #1967D2;\n",
              "      height: 32px;\n",
              "      padding: 0 0 0 0;\n",
              "      width: 32px;\n",
              "    }\n",
              "\n",
              "    .colab-df-convert:hover {\n",
              "      background-color: #E2EBFA;\n",
              "      box-shadow: 0px 1px 2px rgba(60, 64, 67, 0.3), 0px 1px 3px 1px rgba(60, 64, 67, 0.15);\n",
              "      fill: #174EA6;\n",
              "    }\n",
              "\n",
              "    .colab-df-buttons div {\n",
              "      margin-bottom: 4px;\n",
              "    }\n",
              "\n",
              "    [theme=dark] .colab-df-convert {\n",
              "      background-color: #3B4455;\n",
              "      fill: #D2E3FC;\n",
              "    }\n",
              "\n",
              "    [theme=dark] .colab-df-convert:hover {\n",
              "      background-color: #434B5C;\n",
              "      box-shadow: 0px 1px 3px 1px rgba(0, 0, 0, 0.15);\n",
              "      filter: drop-shadow(0px 1px 2px rgba(0, 0, 0, 0.3));\n",
              "      fill: #FFFFFF;\n",
              "    }\n",
              "  </style>\n",
              "\n",
              "    <script>\n",
              "      const buttonEl =\n",
              "        document.querySelector('#df-e8cec6a3-9974-424a-9549-e502ecebc4e7 button.colab-df-convert');\n",
              "      buttonEl.style.display =\n",
              "        google.colab.kernel.accessAllowed ? 'block' : 'none';\n",
              "\n",
              "      async function convertToInteractive(key) {\n",
              "        const element = document.querySelector('#df-e8cec6a3-9974-424a-9549-e502ecebc4e7');\n",
              "        const dataTable =\n",
              "          await google.colab.kernel.invokeFunction('convertToInteractive',\n",
              "                                                    [key], {});\n",
              "        if (!dataTable) return;\n",
              "\n",
              "        const docLinkHtml = 'Like what you see? Visit the ' +\n",
              "          '<a target=\"_blank\" href=https://colab.research.google.com/notebooks/data_table.ipynb>data table notebook</a>'\n",
              "          + ' to learn more about interactive tables.';\n",
              "        element.innerHTML = '';\n",
              "        dataTable['output_type'] = 'display_data';\n",
              "        await google.colab.output.renderOutput(dataTable, element);\n",
              "        const docLink = document.createElement('div');\n",
              "        docLink.innerHTML = docLinkHtml;\n",
              "        element.appendChild(docLink);\n",
              "      }\n",
              "    </script>\n",
              "  </div>\n",
              "\n",
              "\n",
              "<div id=\"df-51e3ef4b-096a-40fe-a60f-0b2b379027b2\">\n",
              "  <button class=\"colab-df-quickchart\" onclick=\"quickchart('df-51e3ef4b-096a-40fe-a60f-0b2b379027b2')\"\n",
              "            title=\"Suggest charts\"\n",
              "            style=\"display:none;\">\n",
              "\n",
              "<svg xmlns=\"http://www.w3.org/2000/svg\" height=\"24px\"viewBox=\"0 0 24 24\"\n",
              "     width=\"24px\">\n",
              "    <g>\n",
              "        <path d=\"M19 3H5c-1.1 0-2 .9-2 2v14c0 1.1.9 2 2 2h14c1.1 0 2-.9 2-2V5c0-1.1-.9-2-2-2zM9 17H7v-7h2v7zm4 0h-2V7h2v10zm4 0h-2v-4h2v4z\"/>\n",
              "    </g>\n",
              "</svg>\n",
              "  </button>\n",
              "\n",
              "<style>\n",
              "  .colab-df-quickchart {\n",
              "      --bg-color: #E8F0FE;\n",
              "      --fill-color: #1967D2;\n",
              "      --hover-bg-color: #E2EBFA;\n",
              "      --hover-fill-color: #174EA6;\n",
              "      --disabled-fill-color: #AAA;\n",
              "      --disabled-bg-color: #DDD;\n",
              "  }\n",
              "\n",
              "  [theme=dark] .colab-df-quickchart {\n",
              "      --bg-color: #3B4455;\n",
              "      --fill-color: #D2E3FC;\n",
              "      --hover-bg-color: #434B5C;\n",
              "      --hover-fill-color: #FFFFFF;\n",
              "      --disabled-bg-color: #3B4455;\n",
              "      --disabled-fill-color: #666;\n",
              "  }\n",
              "\n",
              "  .colab-df-quickchart {\n",
              "    background-color: var(--bg-color);\n",
              "    border: none;\n",
              "    border-radius: 50%;\n",
              "    cursor: pointer;\n",
              "    display: none;\n",
              "    fill: var(--fill-color);\n",
              "    height: 32px;\n",
              "    padding: 0;\n",
              "    width: 32px;\n",
              "  }\n",
              "\n",
              "  .colab-df-quickchart:hover {\n",
              "    background-color: var(--hover-bg-color);\n",
              "    box-shadow: 0 1px 2px rgba(60, 64, 67, 0.3), 0 1px 3px 1px rgba(60, 64, 67, 0.15);\n",
              "    fill: var(--button-hover-fill-color);\n",
              "  }\n",
              "\n",
              "  .colab-df-quickchart-complete:disabled,\n",
              "  .colab-df-quickchart-complete:disabled:hover {\n",
              "    background-color: var(--disabled-bg-color);\n",
              "    fill: var(--disabled-fill-color);\n",
              "    box-shadow: none;\n",
              "  }\n",
              "\n",
              "  .colab-df-spinner {\n",
              "    border: 2px solid var(--fill-color);\n",
              "    border-color: transparent;\n",
              "    border-bottom-color: var(--fill-color);\n",
              "    animation:\n",
              "      spin 1s steps(1) infinite;\n",
              "  }\n",
              "\n",
              "  @keyframes spin {\n",
              "    0% {\n",
              "      border-color: transparent;\n",
              "      border-bottom-color: var(--fill-color);\n",
              "      border-left-color: var(--fill-color);\n",
              "    }\n",
              "    20% {\n",
              "      border-color: transparent;\n",
              "      border-left-color: var(--fill-color);\n",
              "      border-top-color: var(--fill-color);\n",
              "    }\n",
              "    30% {\n",
              "      border-color: transparent;\n",
              "      border-left-color: var(--fill-color);\n",
              "      border-top-color: var(--fill-color);\n",
              "      border-right-color: var(--fill-color);\n",
              "    }\n",
              "    40% {\n",
              "      border-color: transparent;\n",
              "      border-right-color: var(--fill-color);\n",
              "      border-top-color: var(--fill-color);\n",
              "    }\n",
              "    60% {\n",
              "      border-color: transparent;\n",
              "      border-right-color: var(--fill-color);\n",
              "    }\n",
              "    80% {\n",
              "      border-color: transparent;\n",
              "      border-right-color: var(--fill-color);\n",
              "      border-bottom-color: var(--fill-color);\n",
              "    }\n",
              "    90% {\n",
              "      border-color: transparent;\n",
              "      border-bottom-color: var(--fill-color);\n",
              "    }\n",
              "  }\n",
              "</style>\n",
              "\n",
              "  <script>\n",
              "    async function quickchart(key) {\n",
              "      const quickchartButtonEl =\n",
              "        document.querySelector('#' + key + ' button');\n",
              "      quickchartButtonEl.disabled = true;  // To prevent multiple clicks.\n",
              "      quickchartButtonEl.classList.add('colab-df-spinner');\n",
              "      try {\n",
              "        const charts = await google.colab.kernel.invokeFunction(\n",
              "            'suggestCharts', [key], {});\n",
              "      } catch (error) {\n",
              "        console.error('Error during call to suggestCharts:', error);\n",
              "      }\n",
              "      quickchartButtonEl.classList.remove('colab-df-spinner');\n",
              "      quickchartButtonEl.classList.add('colab-df-quickchart-complete');\n",
              "    }\n",
              "    (() => {\n",
              "      let quickchartButtonEl =\n",
              "        document.querySelector('#df-51e3ef4b-096a-40fe-a60f-0b2b379027b2 button');\n",
              "      quickchartButtonEl.style.display =\n",
              "        google.colab.kernel.accessAllowed ? 'block' : 'none';\n",
              "    })();\n",
              "  </script>\n",
              "</div>\n",
              "\n",
              "  <div id=\"id_a426ce3c-bc2b-4b09-b095-9392227c8d10\">\n",
              "    <style>\n",
              "      .colab-df-generate {\n",
              "        background-color: #E8F0FE;\n",
              "        border: none;\n",
              "        border-radius: 50%;\n",
              "        cursor: pointer;\n",
              "        display: none;\n",
              "        fill: #1967D2;\n",
              "        height: 32px;\n",
              "        padding: 0 0 0 0;\n",
              "        width: 32px;\n",
              "      }\n",
              "\n",
              "      .colab-df-generate:hover {\n",
              "        background-color: #E2EBFA;\n",
              "        box-shadow: 0px 1px 2px rgba(60, 64, 67, 0.3), 0px 1px 3px 1px rgba(60, 64, 67, 0.15);\n",
              "        fill: #174EA6;\n",
              "      }\n",
              "\n",
              "      [theme=dark] .colab-df-generate {\n",
              "        background-color: #3B4455;\n",
              "        fill: #D2E3FC;\n",
              "      }\n",
              "\n",
              "      [theme=dark] .colab-df-generate:hover {\n",
              "        background-color: #434B5C;\n",
              "        box-shadow: 0px 1px 3px 1px rgba(0, 0, 0, 0.15);\n",
              "        filter: drop-shadow(0px 1px 2px rgba(0, 0, 0, 0.3));\n",
              "        fill: #FFFFFF;\n",
              "      }\n",
              "    </style>\n",
              "    <button class=\"colab-df-generate\" onclick=\"generateWithVariable('a')\"\n",
              "            title=\"Generate code using this dataframe.\"\n",
              "            style=\"display:none;\">\n",
              "\n",
              "  <svg xmlns=\"http://www.w3.org/2000/svg\" height=\"24px\"viewBox=\"0 0 24 24\"\n",
              "       width=\"24px\">\n",
              "    <path d=\"M7,19H8.4L18.45,9,17,7.55,7,17.6ZM5,21V16.75L18.45,3.32a2,2,0,0,1,2.83,0l1.4,1.43a1.91,1.91,0,0,1,.58,1.4,1.91,1.91,0,0,1-.58,1.4L9.25,21ZM18.45,9,17,7.55Zm-12,3A5.31,5.31,0,0,0,4.9,8.1,5.31,5.31,0,0,0,1,6.5,5.31,5.31,0,0,0,4.9,4.9,5.31,5.31,0,0,0,6.5,1,5.31,5.31,0,0,0,8.1,4.9,5.31,5.31,0,0,0,12,6.5,5.46,5.46,0,0,0,6.5,12Z\"/>\n",
              "  </svg>\n",
              "    </button>\n",
              "    <script>\n",
              "      (() => {\n",
              "      const buttonEl =\n",
              "        document.querySelector('#id_a426ce3c-bc2b-4b09-b095-9392227c8d10 button.colab-df-generate');\n",
              "      buttonEl.style.display =\n",
              "        google.colab.kernel.accessAllowed ? 'block' : 'none';\n",
              "\n",
              "      buttonEl.onclick = () => {\n",
              "        google.colab.notebook.generateWithVariable('a');\n",
              "      }\n",
              "      })();\n",
              "    </script>\n",
              "  </div>\n",
              "\n",
              "    </div>\n",
              "  </div>\n"
            ],
            "application/vnd.google.colaboratory.intrinsic+json": {
              "type": "dataframe",
              "variable_name": "a",
              "summary": "{\n  \"name\": \"a\",\n  \"rows\": 156,\n  \"fields\": [\n    {\n      \"column\": \"age\",\n      \"properties\": {\n        \"dtype\": \"number\",\n        \"std\": 14.613879926560793,\n        \"min\": 0.83,\n        \"max\": 71.0,\n        \"num_unique_values\": 56,\n        \"samples\": [\n          22.0,\n          2.0,\n          17.0\n        ],\n        \"semantic_type\": \"\",\n        \"description\": \"\"\n      }\n    },\n    {\n      \"column\": \"name\",\n      \"properties\": {\n        \"dtype\": \"string\",\n        \"num_unique_values\": 156,\n        \"samples\": [\n          \"Goldschmidt, Mr. George B\",\n          \"Kink, Mr. Vincenz\",\n          \"McDermott, Miss. Brigdet Delia\"\n        ],\n        \"semantic_type\": \"\",\n        \"description\": \"\"\n      }\n    },\n    {\n      \"column\": \"sex\",\n      \"properties\": {\n        \"dtype\": \"category\",\n        \"num_unique_values\": 2,\n        \"samples\": [\n          \"female\",\n          \"male\"\n        ],\n        \"semantic_type\": \"\",\n        \"description\": \"\"\n      }\n    },\n    {\n      \"column\": \"fare\",\n      \"properties\": {\n        \"dtype\": \"number\",\n        \"std\": 39.401046696492585,\n        \"min\": 6.75,\n        \"max\": 263.0,\n        \"num_unique_values\": 93,\n        \"samples\": [\n          39.6875,\n          31.3875\n        ],\n        \"semantic_type\": \"\",\n        \"description\": \"\"\n      }\n    }\n  ]\n}"
            }
          },
          "metadata": {},
          "execution_count": 229
        }
      ]
    },
    {
      "cell_type": "markdown",
      "source": [
        "## 행의 값 가져오기  --> 슬라이싱 사용 가능\n",
        "- df[시작행 : 끝행+1]\n",
        "- df[시작행 : 끝행+1, 간격]"
      ],
      "metadata": {
        "id": "FqB5szXvGx05"
      }
    },
    {
      "cell_type": "code",
      "source": [
        "titanic_df.index[100] # 원하는 행의 정보"
      ],
      "metadata": {
        "colab": {
          "base_uri": "https://localhost:8080/"
        },
        "id": "SOREZ5A0Hw1b",
        "outputId": "4f5d7726-63af-4941-9365-b13d6247362e"
      },
      "execution_count": null,
      "outputs": [
        {
          "output_type": "execute_result",
          "data": {
            "text/plain": [
              "100"
            ]
          },
          "metadata": {},
          "execution_count": 113
        }
      ]
    },
    {
      "cell_type": "code",
      "execution_count": null,
      "metadata": {
        "id": "IBz7fCO3AJoQ"
      },
      "outputs": [],
      "source": [
        "titanic_df[100:101] # 원하는 행의 정보"
      ]
    },
    {
      "cell_type": "code",
      "source": [
        "titanic_df[50:61]"
      ],
      "metadata": {
        "id": "u5SjfL0fGt4d"
      },
      "execution_count": null,
      "outputs": []
    },
    {
      "cell_type": "code",
      "execution_count": null,
      "metadata": {
        "id": "DNuenikoASfG"
      },
      "outputs": [],
      "source": [
        "titanic_df[::10] # 10개씩 건너서 출력함"
      ]
    },
    {
      "cell_type": "markdown",
      "metadata": {
        "id": "yz1TZubQAo09"
      },
      "source": [
        "###열 이름과 위치를 이용해 데이터 가져오기"
      ]
    },
    {
      "cell_type": "code",
      "execution_count": null,
      "metadata": {
        "id": "PGJ21cOGAqwu"
      },
      "outputs": [],
      "source": [
        "# 추천 안합니다~\n",
        "print(titanic_df[titanic_df.columns[0]][0]) # 첫 번째 열의 첫 번째 값\n",
        "print(titanic_df['age'][0]) # age 열의 첫 번째 값\n",
        "print(titanic_df[titanic_df.columns[0]][2])\n",
        "print(titanic_df[titanic_df.columns[-1]][0])\n",
        "type(titanic_df[titanic_df.columns[0]][0]) # str"
      ]
    },
    {
      "cell_type": "code",
      "execution_count": null,
      "metadata": {
        "id": "bSEYUqVzAuk5"
      },
      "outputs": [],
      "source": [
        "# 추천 안합니다~\n",
        "titanic_df[titanic_df.columns[0]][2:6] # 2번부터 5번 행까지\n",
        "titanic_df[titanic_df.columns[0]][:-1] # 마지막 행 제외\n",
        "titanic_df[titanic_df.columns[0]][::3] # 3개의 step으로 슬라이싱\n",
        "titanic_df[titanic_df.columns[0]][-1:] # 마지막 행만 추출\n",
        "titanic_df[titanic_df.columns[0]][::-1] # 행을 역순으로 출력"
      ]
    },
    {
      "cell_type": "code",
      "execution_count": null,
      "metadata": {
        "id": "-uazKWWTAwlJ"
      },
      "outputs": [],
      "source": [
        "# 추천 안합니다~\n",
        "titanic_df[['pclass', 'name', 'sex']] # DataFrame 추출\n",
        "titanic_df[[titanic_df.columns[2],titanic_df.columns[3],titanic_df.columns[4]]]\n",
        " # DataFrame 추출"
      ]
    },
    {
      "cell_type": "code",
      "execution_count": null,
      "metadata": {
        "id": "sGcbNyPkA0A8"
      },
      "outputs": [],
      "source": [
        "# 추천 안합니다~\n",
        "titanic_df[[titanic_df.columns[2],titanic_df.columns[3],titanic_df.columns[4]]][2:15:3]\n",
        "# 슬라이싱\n"
      ]
    },
    {
      "cell_type": "markdown",
      "source": [
        "## 이름을 기준으로 데이터 가져오기 : loc\n",
        "- df.loc[시작인덱스명 : 종료인덱스명  : 간격 ]  -> 종료인덱스까지포함 // 모든 컬럼\n",
        "\n",
        "- df.loc [ : , : ]   -> df.loc[행에대한범위, 열에대한범위 ]"
      ],
      "metadata": {
        "id": "LgsG24r7JKF0"
      }
    },
    {
      "cell_type": "code",
      "execution_count": null,
      "metadata": {
        "id": "NLPACHGJA650"
      },
      "outputs": [],
      "source": [
        "titanic_df.loc[0]"
      ]
    },
    {
      "cell_type": "code",
      "execution_count": null,
      "metadata": {
        "id": "stFUwfezSOSE"
      },
      "outputs": [],
      "source": [
        "titanic_df.loc[0:5]"
      ]
    },
    {
      "cell_type": "code",
      "execution_count": null,
      "metadata": {
        "id": "JxmHwpgBA_o8"
      },
      "outputs": [],
      "source": [
        "titanic_df.loc[0:10:2]"
      ]
    },
    {
      "cell_type": "code",
      "execution_count": null,
      "metadata": {
        "id": "ksdbh0YYBE4e"
      },
      "outputs": [],
      "source": [
        "# df.loc[ : ]\n",
        "\n",
        "titanic_df.loc[:, 'age']\n"
      ]
    },
    {
      "cell_type": "code",
      "execution_count": null,
      "metadata": {
        "id": "OurVJOdBBHnB"
      },
      "outputs": [],
      "source": [
        "titanic_df.loc[:, ['age', 'sex']]"
      ]
    },
    {
      "cell_type": "code",
      "execution_count": null,
      "metadata": {
        "id": "0CXe2-9VBKTI"
      },
      "outputs": [],
      "source": [
        "titanic_df.loc[3:7, ['age', 'sex']]    # 떨어져 있는 컬럼 하나씩"
      ]
    },
    {
      "cell_type": "code",
      "execution_count": null,
      "metadata": {
        "id": "1Op-LoyBBNEq"
      },
      "outputs": [],
      "source": [
        "titanic_df.loc[2:5, 'survived':'age']  # 붙여 있는  컬럼 연속으로"
      ]
    },
    {
      "cell_type": "markdown",
      "metadata": {
        "id": "63ECp2vnBPe8"
      },
      "source": [
        "###인덱스 순서를 기준으로 데이터 가져오기: iloc 속성\n",
        "df.iloc [ : , : ] -> df.loc[행에대한범위, 열에대한범위 ]"
      ]
    },
    {
      "cell_type": "code",
      "execution_count": null,
      "metadata": {
        "id": "1K9qWHobBRgK"
      },
      "outputs": [],
      "source": [
        "titanic_df.iloc[0]"
      ]
    },
    {
      "cell_type": "code",
      "execution_count": null,
      "metadata": {
        "id": "32Y25uGvBUwW"
      },
      "outputs": [],
      "source": [
        "titanic_df.iloc[0:5]   # 1~ 5 전까지"
      ]
    },
    {
      "cell_type": "code",
      "execution_count": null,
      "metadata": {
        "id": "cNqJ7bmdBW1E"
      },
      "outputs": [],
      "source": [
        "titanic_df.iloc[0:10:3]"
      ]
    },
    {
      "cell_type": "code",
      "execution_count": null,
      "metadata": {
        "id": "Hhs6q9WKBY56"
      },
      "outputs": [],
      "source": [
        "# 전체 행에 대하여 0, 2 번째 컬럼의 값\n",
        "\n",
        "titanic_df.iloc[:, [0, 2]]"
      ]
    },
    {
      "cell_type": "code",
      "source": [
        "titanic_df.iloc[1:5, 1:4]"
      ],
      "metadata": {
        "id": "idDHOiPslex0"
      },
      "execution_count": null,
      "outputs": []
    }
  ],
  "metadata": {
    "colab": {
      "provenance": []
    },
    "kernelspec": {
      "display_name": "Python 3 (ipykernel)",
      "language": "python",
      "name": "python3"
    },
    "language_info": {
      "codemirror_mode": {
        "name": "ipython",
        "version": 3
      },
      "file_extension": ".py",
      "mimetype": "text/x-python",
      "name": "python",
      "nbconvert_exporter": "python",
      "pygments_lexer": "ipython3",
      "version": "3.9.12"
    }
  },
  "nbformat": 4,
  "nbformat_minor": 0
}